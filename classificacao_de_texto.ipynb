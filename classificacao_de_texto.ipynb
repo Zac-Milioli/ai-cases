{
 "cells": [
  {
   "cell_type": "markdown",
   "id": "ad682feb-f5d3-41c7-a4e0-92454979ee65",
   "metadata": {},
   "source": [
    "# Classificação de texto\n",
    "\n",
    "> Implemente um exemplo de uso do BERT para uma tarefa de classificação de texto.\n",
    "> Utilize qualquer conjunto de dados de sua escolha.\n",
    "\n",
    "> Explique como transformaria isso em produto, seja específico."
   ]
  },
  {
   "cell_type": "code",
   "execution_count": null,
   "id": "6e7d23c8-b947-4e38-bab6-cb23b4a8deb2",
   "metadata": {},
   "outputs": [],
   "source": [
    "!pip install -r requirements.txt"
   ]
  },
  {
   "cell_type": "markdown",
   "id": "17c93242-972e-4884-ae3e-a03ab7397279",
   "metadata": {},
   "source": [
    "## Explicação\n",
    "\n",
    "Em prol da simplicidade da demonstração, utilizarei um modelo com BERT pelo spacy (en_core_web_trf). Para esse modelo, que é para processamentos em inglês, utilizarei dados em inglês."
   ]
  },
  {
   "cell_type": "markdown",
   "id": "a2e20a11-feb8-4034-94c0-553c1a41ecdd",
   "metadata": {},
   "source": [
    "### Ideia/Exemplo de produto\n",
    "\n",
    "Um modelo que reconhece o pedido das pessoas, em produto e quantidade, permitindo que seja implementada uma automação de pedidos."
   ]
  },
  {
   "cell_type": "code",
   "execution_count": 42,
   "id": "83d8c8bc-a88f-45ab-9d99-8fcf0136078a",
   "metadata": {},
   "outputs": [],
   "source": [
    "data = [\n",
    "    \"I'd like to have 10 apples.\",\n",
    "    \"Twenty bags, please!\",\n",
    "    \"Only one burguer for me.\",\n",
    "    \"He is asking for 15 screws\",\n",
    "    \"Could you bring me 3 bottles of water?\",\n",
    "    \"She ordered seven pizzas.\",\n",
    "    \"We'll need 25 plastic chairs.\",\n",
    "    \"Give me two tickets to the concert.\",\n",
    "    \"They bought 8 laptops.\",\n",
    "    \"Just one slice of cake.\",\n",
    "]"
   ]
  },
  {
   "cell_type": "code",
   "execution_count": 43,
   "id": "4756ceb7-11b2-4ca3-a4fb-960b80c6db2e",
   "metadata": {},
   "outputs": [],
   "source": [
    "import spacy"
   ]
  },
  {
   "cell_type": "code",
   "execution_count": 44,
   "id": "ec3b2d52-6a30-400f-a5ad-1bcc7181e941",
   "metadata": {},
   "outputs": [],
   "source": [
    "nlp = spacy.load(\"en_core_web_trf\")"
   ]
  },
  {
   "cell_type": "code",
   "execution_count": 45,
   "id": "93db31ae-c2f8-4920-b00d-6548d30d37a2",
   "metadata": {},
   "outputs": [
    {
     "data": {
      "text/plain": [
       "[I'd like to have 10 apples.,\n",
       " Twenty bags, please!,\n",
       " Only one burguer for me.,\n",
       " He is asking for 15 screws,\n",
       " Could you bring me 3 bottles of water?,\n",
       " She ordered seven pizzas.,\n",
       " We'll need 25 plastic chairs.,\n",
       " Give me two tickets to the concert.,\n",
       " They bought 8 laptops.,\n",
       " Just one slice of cake.]"
      ]
     },
     "execution_count": 45,
     "metadata": {},
     "output_type": "execute_result"
    }
   ],
   "source": [
    "processed_data = [nlp(request) for request in data]\n",
    "processed_data"
   ]
  },
  {
   "cell_type": "code",
   "execution_count": 47,
   "id": "adb879e3-d293-466e-b3e2-331792f28490",
   "metadata": {},
   "outputs": [
    {
     "data": {
      "text/plain": [
       "[{'qty': '10', 'prod': 'apples'},\n",
       " {'qty': 'Twenty', 'prod': 'bags'},\n",
       " {'qty': 'one', 'prod': 'burguer'},\n",
       " {'qty': '15', 'prod': 'screws'},\n",
       " {'qty': '3', 'prod': 'bottles water'},\n",
       " {'qty': 'seven', 'prod': 'pizzas'},\n",
       " {'qty': '25', 'prod': 'chairs'},\n",
       " {'qty': 'two', 'prod': 'tickets concert'},\n",
       " {'qty': '8', 'prod': 'laptops'},\n",
       " {'qty': 'one', 'prod': 'slice cake'}]"
      ]
     },
     "execution_count": 47,
     "metadata": {},
     "output_type": "execute_result"
    }
   ],
   "source": [
    "# Efetuo uma filtragem dos dados por sua classificação, para localizar a quantidade e produto que o cliente menciona\n",
    "# Optei por utilizar uma lista de qty e prod dentro de args pois podem haver múltiplas ocorrências de nums. ou noun/propn.\n",
    "# Pode ser feito um pós processamento após isso para determinar qual dos itens na lista é o de maior probabilidade de ser\n",
    "# o desejado, ou fazer um join como eu fiz de forma a apresentar o nome mais completo dos produtos com múltiplas palavras\n",
    "# (por exemplo \"bottles of water\", \"slices of cake\", \"tickets for the concert\")\n",
    "\n",
    "filtered_data = []\n",
    "for item in processed_data:\n",
    "    args = {\"qty\": None, \"prod\": []}\n",
    "    for token in item:\n",
    "        if token.like_num:\n",
    "            args[\"qty\"] = token.text\n",
    "        if token.pos_ in (\"NOUN\", \"PROPN\"):\n",
    "            args[\"prod\"].append(token.text)\n",
    "    args[\"prod\"] = \" \".join(args[\"prod\"])\n",
    "    filtered_data.append(args)\n",
    "\n",
    "filtered_data"
   ]
  },
  {
   "cell_type": "code",
   "execution_count": 48,
   "id": "251201fb-9783-401a-b1fa-f3cdb3abfdd1",
   "metadata": {},
   "outputs": [],
   "source": [
    "# Transformando em um dataframe do pandas para melhor visualização\n",
    "import pandas as pd"
   ]
  },
  {
   "cell_type": "code",
   "execution_count": 49,
   "id": "ab0b3644-aa47-411d-9ad3-73440ceb9d08",
   "metadata": {},
   "outputs": [
    {
     "data": {
      "text/html": [
       "<div>\n",
       "<style scoped>\n",
       "    .dataframe tbody tr th:only-of-type {\n",
       "        vertical-align: middle;\n",
       "    }\n",
       "\n",
       "    .dataframe tbody tr th {\n",
       "        vertical-align: top;\n",
       "    }\n",
       "\n",
       "    .dataframe thead th {\n",
       "        text-align: right;\n",
       "    }\n",
       "</style>\n",
       "<table border=\"1\" class=\"dataframe\">\n",
       "  <thead>\n",
       "    <tr style=\"text-align: right;\">\n",
       "      <th></th>\n",
       "      <th>desc</th>\n",
       "      <th>qty</th>\n",
       "      <th>prod</th>\n",
       "    </tr>\n",
       "  </thead>\n",
       "  <tbody>\n",
       "    <tr>\n",
       "      <th>0</th>\n",
       "      <td>I'd like to have 10 apples.</td>\n",
       "      <td>10</td>\n",
       "      <td>apples</td>\n",
       "    </tr>\n",
       "    <tr>\n",
       "      <th>1</th>\n",
       "      <td>Twenty bags, please!</td>\n",
       "      <td>Twenty</td>\n",
       "      <td>bags</td>\n",
       "    </tr>\n",
       "    <tr>\n",
       "      <th>2</th>\n",
       "      <td>Only one burguer for me.</td>\n",
       "      <td>one</td>\n",
       "      <td>burguer</td>\n",
       "    </tr>\n",
       "    <tr>\n",
       "      <th>3</th>\n",
       "      <td>He is asking for 15 screws</td>\n",
       "      <td>15</td>\n",
       "      <td>screws</td>\n",
       "    </tr>\n",
       "    <tr>\n",
       "      <th>4</th>\n",
       "      <td>Could you bring me 3 bottles of water?</td>\n",
       "      <td>3</td>\n",
       "      <td>bottles water</td>\n",
       "    </tr>\n",
       "    <tr>\n",
       "      <th>5</th>\n",
       "      <td>She ordered seven pizzas.</td>\n",
       "      <td>seven</td>\n",
       "      <td>pizzas</td>\n",
       "    </tr>\n",
       "    <tr>\n",
       "      <th>6</th>\n",
       "      <td>We'll need 25 plastic chairs.</td>\n",
       "      <td>25</td>\n",
       "      <td>chairs</td>\n",
       "    </tr>\n",
       "    <tr>\n",
       "      <th>7</th>\n",
       "      <td>Give me two tickets to the concert.</td>\n",
       "      <td>two</td>\n",
       "      <td>tickets concert</td>\n",
       "    </tr>\n",
       "    <tr>\n",
       "      <th>8</th>\n",
       "      <td>They bought 8 laptops.</td>\n",
       "      <td>8</td>\n",
       "      <td>laptops</td>\n",
       "    </tr>\n",
       "    <tr>\n",
       "      <th>9</th>\n",
       "      <td>Just one slice of cake.</td>\n",
       "      <td>one</td>\n",
       "      <td>slice cake</td>\n",
       "    </tr>\n",
       "  </tbody>\n",
       "</table>\n",
       "</div>"
      ],
      "text/plain": [
       "                                     desc     qty             prod\n",
       "0             I'd like to have 10 apples.      10           apples\n",
       "1                    Twenty bags, please!  Twenty             bags\n",
       "2                Only one burguer for me.     one          burguer\n",
       "3              He is asking for 15 screws      15           screws\n",
       "4  Could you bring me 3 bottles of water?       3    bottles water\n",
       "5               She ordered seven pizzas.   seven           pizzas\n",
       "6           We'll need 25 plastic chairs.      25           chairs\n",
       "7     Give me two tickets to the concert.     two  tickets concert\n",
       "8                  They bought 8 laptops.       8          laptops\n",
       "9                 Just one slice of cake.     one       slice cake"
      ]
     },
     "execution_count": 49,
     "metadata": {},
     "output_type": "execute_result"
    }
   ],
   "source": [
    "dict_for_dataframe = {\n",
    "    \"desc\": data,\n",
    "    \"qty\": [output[\"qty\"] for output in filtered_data],\n",
    "    \"prod\": [output[\"prod\"] for output in filtered_data]\n",
    "}\n",
    "\n",
    "df = pd.DataFrame(dict_for_dataframe)\n",
    "\n",
    "df"
   ]
  },
  {
   "cell_type": "markdown",
   "id": "249b6efe-7153-4fc7-ba2a-6b32706be38c",
   "metadata": {},
   "source": [
    "Essa demonstração mais simples também exemplifica como os modelos, mesmo com boas taxas de acerto, necessitam de refinamento e treinamento para retornar dados mais próximos do desejado."
   ]
  }
 ],
 "metadata": {
  "kernelspec": {
   "display_name": "Python 3 (ipykernel)",
   "language": "python",
   "name": "python3"
  },
  "language_info": {
   "codemirror_mode": {
    "name": "ipython",
    "version": 3
   },
   "file_extension": ".py",
   "mimetype": "text/x-python",
   "name": "python",
   "nbconvert_exporter": "python",
   "pygments_lexer": "ipython3",
   "version": "3.12.3"
  }
 },
 "nbformat": 4,
 "nbformat_minor": 5
}
