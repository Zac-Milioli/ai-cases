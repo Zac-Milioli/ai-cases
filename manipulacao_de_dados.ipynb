{
 "cells": [
  {
   "cell_type": "markdown",
   "id": "0c266aef-6cb2-4c9e-a29a-1fb4b489602d",
   "metadata": {},
   "source": [
    "# Manipulação de Dados\n",
    "\n",
    "Considere o seguinte conjunto de dados textuais:\n",
    "- O gato está no telhado.\n",
    "- A chuva cai sem parar.\n",
    "- Gosto de assistir filmes nos finais de semana.\n",
    "- Ele está estudando para as provas finais.\n",
    "\n",
    "> Realize a limpeza dos textos, incluindo a remoção de stopwords, normalização (caixa baixa), e tokenização.\n",
    "\n",
    "> Aplique lematização aos textos.\n",
    "\n",
    "> Crie vetores de característica utilizando TF-IDF e Bag of Words.\n"
   ]
  },
  {
   "cell_type": "code",
   "execution_count": null,
   "id": "597cc6cb-b5b0-4545-95d7-fa3ec118d7f8",
   "metadata": {},
   "outputs": [],
   "source": [
    "!pip install -r requirements.txt"
   ]
  },
  {
   "cell_type": "markdown",
   "id": "1c28a394-04bd-4838-b451-29c5206bd9f7",
   "metadata": {},
   "source": [
    "### Início: Limpeza dos textos\n",
    "\n",
    "Inicialmente, vou instanciar a lista com os textos. Cada um é como um documento (futuramente será assim feito o TF-IDF)."
   ]
  },
  {
   "cell_type": "code",
   "execution_count": 1,
   "id": "a2f92fd5-0af4-4362-8553-2c678e03b8b2",
   "metadata": {},
   "outputs": [
    {
     "data": {
      "text/plain": [
       "['O gato está no telhado.',\n",
       " 'A chuva cai sem parar.',\n",
       " 'Gosto de assistir filmes nos finais de semana.',\n",
       " 'Ele está estudando para as provas finais.']"
      ]
     },
     "execution_count": 1,
     "metadata": {},
     "output_type": "execute_result"
    }
   ],
   "source": [
    "batches = [\n",
    "    \"O gato está no telhado.\",\n",
    "    \"A chuva cai sem parar.\",\n",
    "    \"Gosto de assistir filmes nos finais de semana.\",\n",
    "    \"Ele está estudando para as provas finais.\"\n",
    "]\n",
    "\n",
    "batches"
   ]
  },
  {
   "cell_type": "markdown",
   "id": "85870736-82b7-458b-b126-e6ce2bf84c9c",
   "metadata": {},
   "source": [
    "#### Adaptação do lote (batches)\n",
    "\n",
    "Para a formatação do texto e remoção das pontuações, utilizarei métodos padrões do python visto que esses facilmente dão conta do serviço. Irei utilizar o Spacy para remover as stopwords, realizar a tokenização e a lemetização visto que ele já possui métodos para fazer isso com português brasileiro de maneira eficiente.\n",
    "\n",
    "A ordem das minhas ações será:\n",
    "- Normalização\n",
    "- Remoção de pontuações\n",
    "- Remoção de stopwords, tokenização e lemetização"
   ]
  },
  {
   "cell_type": "code",
   "execution_count": 2,
   "id": "20c66162-74d0-4eb6-99e2-428b62487f1c",
   "metadata": {},
   "outputs": [
    {
     "data": {
      "text/plain": [
       "['o gato está no telhado.',\n",
       " 'a chuva cai sem parar.',\n",
       " 'gosto de assistir filmes nos finais de semana.',\n",
       " 'ele está estudando para as provas finais.']"
      ]
     },
     "execution_count": 2,
     "metadata": {},
     "output_type": "execute_result"
    }
   ],
   "source": [
    "batches = [phrase.lower() for phrase in batches]\n",
    "\n",
    "batches"
   ]
  },
  {
   "cell_type": "code",
   "execution_count": 3,
   "id": "8bcd03b0-01e4-45ee-98e6-ceaaafc24a7b",
   "metadata": {},
   "outputs": [],
   "source": [
    "# importando para ter acesso rápido às pontuações como string\n",
    "import string"
   ]
  },
  {
   "cell_type": "code",
   "execution_count": 4,
   "id": "86bf6ce8-578b-457b-a1be-0cd607045907",
   "metadata": {},
   "outputs": [
    {
     "name": "stdout",
     "output_type": "stream",
     "text": [
      "punctuations ='!\"#$%&\\'()*+,-./:;<=>?@[\\\\]^_`{|}~'\n",
      "words =['o', ' ', 'g', 'a', 't', 'o', ' ', 'e', 's', 't', 'á', ' ', 'n', 'o', ' ', 't', 'e', 'l', 'h', 'a', 'd', 'o', '.']\n",
      "words =['a', ' ', 'c', 'h', 'u', 'v', 'a', ' ', 'c', 'a', 'i', ' ', 's', 'e', 'm', ' ', 'p', 'a', 'r', 'a', 'r', '.']\n",
      "words =['g', 'o', 's', 't', 'o', ' ', 'd', 'e', ' ', 'a', 's', 's', 'i', 's', 't', 'i', 'r', ' ', 'f', 'i', 'l', 'm', 'e', 's', ' ', 'n', 'o', 's', ' ', 'f', 'i', 'n', 'a', 'i', 's', ' ', 'd', 'e', ' ', 's', 'e', 'm', 'a', 'n', 'a', '.']\n",
      "words =['e', 'l', 'e', ' ', 'e', 's', 't', 'á', ' ', 'e', 's', 't', 'u', 'd', 'a', 'n', 'd', 'o', ' ', 'p', 'a', 'r', 'a', ' ', 'a', 's', ' ', 'p', 'r', 'o', 'v', 'a', 's', ' ', 'f', 'i', 'n', 'a', 'i', 's', '.']\n"
     ]
    },
    {
     "data": {
      "text/plain": [
       "['o gato está no telhado',\n",
       " 'a chuva cai sem parar',\n",
       " 'gosto de assistir filmes nos finais de semana',\n",
       " 'ele está estudando para as provas finais']"
      ]
     },
     "execution_count": 4,
     "metadata": {},
     "output_type": "execute_result"
    }
   ],
   "source": [
    "# Remoção de pontuações\n",
    "\n",
    "punctuations = string.punctuation\n",
    "print(f\"{punctuations =}\")\n",
    "\n",
    "cleared_texts = []\n",
    "for phrase in batches:\n",
    "    words = list(phrase)\n",
    "    print(f\"{words =}\")\n",
    "    cleared_texts.append(\"\".join([word for word in words if word not in punctuations]))\n",
    "\n",
    "cleared_texts"
   ]
  },
  {
   "cell_type": "code",
   "execution_count": 5,
   "id": "92ee86b3-2a13-4767-8e75-d6f3730e3116",
   "metadata": {},
   "outputs": [],
   "source": [
    "import spacy"
   ]
  },
  {
   "cell_type": "markdown",
   "id": "c281f449-5945-4a3c-97fc-550c8b525471",
   "metadata": {},
   "source": [
    "> Nessa etapa, utilizarei o spacy e suas funções para efetuar simultaneamente tanto a lemetização quanto a remoção de stopwords e tokenização. Isso não é difícil de fazer e poder ser otimizado aplicando-as em uma compreensão de lista (list comprehension)."
   ]
  },
  {
   "cell_type": "code",
   "execution_count": 6,
   "id": "cefcac88-6744-442e-93e3-105956a04edc",
   "metadata": {},
   "outputs": [],
   "source": [
    "# Carregando um modelo em português para efetuar o processamento\n",
    "nlp = spacy.load(\"pt_core_news_sm\")"
   ]
  },
  {
   "cell_type": "code",
   "execution_count": 7,
   "id": "9fb24178-e11a-4c9f-a1c4-a51e66465e62",
   "metadata": {},
   "outputs": [
    {
     "data": {
      "text/plain": [
       "[[], ['cair', 'parar'], ['gostar', 'assistir'], ['estudar']]"
      ]
     },
     "execution_count": 7,
     "metadata": {},
     "output_type": "execute_result"
    }
   ],
   "source": [
    "# Iterando sobre cada frase do lote para executar a sequência de processos\n",
    "tokens_list = []\n",
    "for phrase in cleared_texts:\n",
    "    loaded = nlp(phrase)\n",
    "    tokens = [token.lemma_ for token in loaded if all([token.pos_ == \"VERB\", not token.is_stop])]\n",
    "    tokens_list.append(tokens)\n",
    "\n",
    "tokens_list"
   ]
  },
  {
   "cell_type": "markdown",
   "id": "85cbf475-bc36-4a02-bdd4-f38ac3545d98",
   "metadata": {},
   "source": [
    "#### Explicação\n",
    "\n",
    "A parte que pode parecer mais complexa dessa etapa é a compreensão de lista, portanto, eis aqui a explicação:\n",
    "- São feitas 3 validações para cada token ser incluído na lista e lematizado;\n",
    "- A primeira validação é se o token é um verbo. Isso é feito pois, para a lematização, apenas funcionam verbos, portanto são excluídas palavras não detectadas nessa categoria;\n",
    "- A segunda validação é a se o token é uma stopword. Caso seja, não é incluído na lista.\n",
    "- Ao fim, em `token.lemma_`, é inclusa na lista a versão lematizada dos tokens que tenham passado nas validações.\n",
    "\n",
    "##### Observação\n",
    "\n",
    "Pode ser observado no exemplo que, mesmo filtrando por verbos, ainda assim alguns dos verbos não apareceram na lista final. Isso pode se dar por dois fatores:\n",
    "- O MLN não é perfeito e comete erros;\n",
    "- A palavra é uma stopword.\n",
    "\n",
    "Em cenários de treinamento ou preparação de documentos para treinamento com lotes bem maiores, estatisticamente os erros tendem a se balancear e não atrapalham o resultado final. "
   ]
  },
  {
   "cell_type": "markdown",
   "id": "eb4b3df4-7b6f-4fca-9566-8859dac7855f",
   "metadata": {},
   "source": [
    "### Última etapa\n",
    "\n",
    "Por fim, utilizarei o sklearn para realizar o processo de TF-IDF pois ele já possui funções bem otimizadas e eficientes para executar isso.\n",
    "\n",
    "Para título de curiosidade, anexo aqui também o cálculo manual do TF-IDF:\n",
    "> TF = frequencia_do_token / len(tokens)\n",
    "\n",
    "> IDF = log (len(batches) / len([batch for batch in batches if token in batch]))\n",
    "\n",
    "> TF-IDF = TF * IDF\n",
    "\n",
    "Depois utilizarei o Bag of Words para construir e exibir a matriz usando essa técnica. Para isso o Sklearn também possui funções eficientes e otimizadas que fazem os cálculos.\n"
   ]
  },
  {
   "cell_type": "code",
   "execution_count": 46,
   "id": "80853f43-664c-4396-a9d4-b4535cb962eb",
   "metadata": {},
   "outputs": [],
   "source": [
    "# TfidfVectorizer para cálculo do TF-IDF, CountVectorizer para Bag of Words\n",
    "from sklearn.feature_extraction.text import TfidfVectorizer, CountVectorizer"
   ]
  },
  {
   "cell_type": "code",
   "execution_count": 47,
   "id": "2d0eb27d-50b7-4a2e-b7a0-fea4fac3d89f",
   "metadata": {},
   "outputs": [
    {
     "data": {
      "text/plain": [
       "['', 'cair parar', 'gostar assistir', 'estudar']"
      ]
     },
     "execution_count": 47,
     "metadata": {},
     "output_type": "execute_result"
    }
   ],
   "source": [
    "batches_in_text = [\" \".join(tokens) for tokens in tokens_list]\n",
    "batches_in_text"
   ]
  },
  {
   "cell_type": "markdown",
   "id": "bf790f1c-614f-4ad1-bab0-b7e93f511839",
   "metadata": {},
   "source": [
    "### TF-IDF:"
   ]
  },
  {
   "cell_type": "code",
   "execution_count": 52,
   "id": "febc58af-c090-4014-bd91-6e6e3946f52c",
   "metadata": {},
   "outputs": [
    {
     "name": "stdout",
     "output_type": "stream",
     "text": [
      "tfidf_list =[[0.0, 0.0, 0.0, 0.0, 0.0], [0.0, 0.7071067811865476, 0.0, 0.0, 0.7071067811865476], [0.7071067811865476, 0.0, 0.0, 0.7071067811865476, 0.0], [0.0, 0.0, 1.0, 0.0, 0.0]]\n"
     ]
    }
   ],
   "source": [
    "vectorizer = TfidfVectorizer()\n",
    "\n",
    "# Efetuar a transformação de documentos/strings\n",
    "vectors = vectorizer.fit_transform(batches_in_text)\n",
    "\n",
    "# Transformar em lista os TF-IDF e exibir\n",
    "tfidf = vectors.todense()\n",
    "tfidf_list = tfidf.tolist()\n",
    "print(f\"{tfidf_list =}\")"
   ]
  },
  {
   "cell_type": "code",
   "execution_count": 53,
   "id": "0e50ac38-13f7-470b-b754-3562257feb9c",
   "metadata": {},
   "outputs": [],
   "source": [
    "# Para melhor visualização, transformarei os dados em uma planilha do pandas\n",
    "import pandas as pd"
   ]
  },
  {
   "cell_type": "code",
   "execution_count": 54,
   "id": "034b7596-b812-438c-a43c-251fcf07d596",
   "metadata": {},
   "outputs": [
    {
     "name": "stdout",
     "output_type": "stream",
     "text": [
      "feature_names =['assistir', 'cair', 'estudar', 'gostar', 'parar']\n"
     ]
    }
   ],
   "source": [
    "# Separar os nomes dos tokens\n",
    "feature_names = list(vectorizer.get_feature_names_out())\n",
    "print(f\"{feature_names =}\")"
   ]
  },
  {
   "cell_type": "code",
   "execution_count": 55,
   "id": "99c2d103-9dfa-4fa6-8018-52b0e55fba87",
   "metadata": {},
   "outputs": [
    {
     "data": {
      "text/html": [
       "<div>\n",
       "<style scoped>\n",
       "    .dataframe tbody tr th:only-of-type {\n",
       "        vertical-align: middle;\n",
       "    }\n",
       "\n",
       "    .dataframe tbody tr th {\n",
       "        vertical-align: top;\n",
       "    }\n",
       "\n",
       "    .dataframe thead th {\n",
       "        text-align: right;\n",
       "    }\n",
       "</style>\n",
       "<table border=\"1\" class=\"dataframe\">\n",
       "  <thead>\n",
       "    <tr style=\"text-align: right;\">\n",
       "      <th></th>\n",
       "      <th>assistir</th>\n",
       "      <th>cair</th>\n",
       "      <th>estudar</th>\n",
       "      <th>gostar</th>\n",
       "      <th>parar</th>\n",
       "    </tr>\n",
       "  </thead>\n",
       "  <tbody>\n",
       "    <tr>\n",
       "      <th>0</th>\n",
       "      <td>0.000000</td>\n",
       "      <td>0.000000</td>\n",
       "      <td>0.0</td>\n",
       "      <td>0.000000</td>\n",
       "      <td>0.000000</td>\n",
       "    </tr>\n",
       "    <tr>\n",
       "      <th>1</th>\n",
       "      <td>0.000000</td>\n",
       "      <td>0.707107</td>\n",
       "      <td>0.0</td>\n",
       "      <td>0.000000</td>\n",
       "      <td>0.707107</td>\n",
       "    </tr>\n",
       "    <tr>\n",
       "      <th>2</th>\n",
       "      <td>0.707107</td>\n",
       "      <td>0.000000</td>\n",
       "      <td>0.0</td>\n",
       "      <td>0.707107</td>\n",
       "      <td>0.000000</td>\n",
       "    </tr>\n",
       "    <tr>\n",
       "      <th>3</th>\n",
       "      <td>0.000000</td>\n",
       "      <td>0.000000</td>\n",
       "      <td>1.0</td>\n",
       "      <td>0.000000</td>\n",
       "      <td>0.000000</td>\n",
       "    </tr>\n",
       "  </tbody>\n",
       "</table>\n",
       "</div>"
      ],
      "text/plain": [
       "   assistir      cair  estudar    gostar     parar\n",
       "0  0.000000  0.000000      0.0  0.000000  0.000000\n",
       "1  0.000000  0.707107      0.0  0.000000  0.707107\n",
       "2  0.707107  0.000000      0.0  0.707107  0.000000\n",
       "3  0.000000  0.000000      1.0  0.000000  0.000000"
      ]
     },
     "execution_count": 55,
     "metadata": {},
     "output_type": "execute_result"
    }
   ],
   "source": [
    "# Transformar em DataFrame\n",
    "df = pd.DataFrame(tfidf_list, columns=feature_names)\n",
    "\n",
    "df"
   ]
  },
  {
   "cell_type": "markdown",
   "id": "18d685a2-7b70-48f7-a13c-9498cd394e95",
   "metadata": {},
   "source": [
    "### Bag of Words:"
   ]
  },
  {
   "cell_type": "code",
   "execution_count": 65,
   "id": "70f5c161-1956-4fe1-bb92-3c1c996c35b8",
   "metadata": {},
   "outputs": [],
   "source": [
    "bag_of_words = CountVectorizer()"
   ]
  },
  {
   "cell_type": "code",
   "execution_count": 73,
   "id": "cd4a33ea-a55e-4964-8a5b-afa2b52c9bb1",
   "metadata": {},
   "outputs": [
    {
     "data": {
      "text/plain": [
       "array([[0, 0, 0, 0, 0],\n",
       "       [0, 1, 0, 0, 1],\n",
       "       [1, 0, 0, 1, 0],\n",
       "       [0, 0, 1, 0, 0]])"
      ]
     },
     "execution_count": 73,
     "metadata": {},
     "output_type": "execute_result"
    }
   ],
   "source": [
    "matrix = bag_of_words.fit_transform(batches_in_text)\n",
    "matrix.toarray()"
   ]
  },
  {
   "cell_type": "code",
   "execution_count": 78,
   "id": "26c12cac-4569-4bef-81e3-e2b8969a04fb",
   "metadata": {},
   "outputs": [
    {
     "data": {
      "text/html": [
       "<div>\n",
       "<style scoped>\n",
       "    .dataframe tbody tr th:only-of-type {\n",
       "        vertical-align: middle;\n",
       "    }\n",
       "\n",
       "    .dataframe tbody tr th {\n",
       "        vertical-align: top;\n",
       "    }\n",
       "\n",
       "    .dataframe thead th {\n",
       "        text-align: right;\n",
       "    }\n",
       "</style>\n",
       "<table border=\"1\" class=\"dataframe\">\n",
       "  <thead>\n",
       "    <tr style=\"text-align: right;\">\n",
       "      <th></th>\n",
       "      <th>assistir</th>\n",
       "      <th>cair</th>\n",
       "      <th>estudar</th>\n",
       "      <th>gostar</th>\n",
       "      <th>parar</th>\n",
       "    </tr>\n",
       "  </thead>\n",
       "  <tbody>\n",
       "    <tr>\n",
       "      <th>0</th>\n",
       "      <td>0</td>\n",
       "      <td>0</td>\n",
       "      <td>0</td>\n",
       "      <td>0</td>\n",
       "      <td>0</td>\n",
       "    </tr>\n",
       "    <tr>\n",
       "      <th>1</th>\n",
       "      <td>0</td>\n",
       "      <td>1</td>\n",
       "      <td>0</td>\n",
       "      <td>0</td>\n",
       "      <td>1</td>\n",
       "    </tr>\n",
       "    <tr>\n",
       "      <th>2</th>\n",
       "      <td>1</td>\n",
       "      <td>0</td>\n",
       "      <td>0</td>\n",
       "      <td>1</td>\n",
       "      <td>0</td>\n",
       "    </tr>\n",
       "    <tr>\n",
       "      <th>3</th>\n",
       "      <td>0</td>\n",
       "      <td>0</td>\n",
       "      <td>1</td>\n",
       "      <td>0</td>\n",
       "      <td>0</td>\n",
       "    </tr>\n",
       "  </tbody>\n",
       "</table>\n",
       "</div>"
      ],
      "text/plain": [
       "   assistir  cair  estudar  gostar  parar\n",
       "0         0     0        0       0      0\n",
       "1         0     1        0       0      1\n",
       "2         1     0        0       1      0\n",
       "3         0     0        1       0      0"
      ]
     },
     "execution_count": 78,
     "metadata": {},
     "output_type": "execute_result"
    }
   ],
   "source": [
    "# Transformando em DataFrame do pandas\n",
    "feature_names = list(bag_of_words.get_feature_names_out())\n",
    "\n",
    "df = pd.DataFrame(matrix.toarray(), columns=feature_names)\n",
    "\n",
    "df"
   ]
  }
 ],
 "metadata": {
  "kernelspec": {
   "display_name": "Python 3 (ipykernel)",
   "language": "python",
   "name": "python3"
  },
  "language_info": {
   "codemirror_mode": {
    "name": "ipython",
    "version": 3
   },
   "file_extension": ".py",
   "mimetype": "text/x-python",
   "name": "python",
   "nbconvert_exporter": "python",
   "pygments_lexer": "ipython3",
   "version": "3.12.3"
  }
 },
 "nbformat": 4,
 "nbformat_minor": 5
}
